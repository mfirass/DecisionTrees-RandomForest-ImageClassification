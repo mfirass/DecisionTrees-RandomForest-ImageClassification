{
 "cells": [
  {
   "cell_type": "markdown",
   "id": "f0ce03f3",
   "metadata": {},
   "source": [
    "<h4>Used Libraries</h4>"
   ]
  },
  {
   "cell_type": "code",
   "execution_count": 1,
   "id": "80b96c32",
   "metadata": {},
   "outputs": [],
   "source": [
    "import numpy as np\n",
    "import cv2\n",
    "import matplotlib.pyplot as plt\n",
    "import sklearn.tree as tree\n",
    "from sklearn.ensemble import RandomForestClassifier\n",
    "from sklearn.ensemble import GradientBoostingClassifier"
   ]
  },
  {
   "cell_type": "markdown",
   "id": "097fe9fc",
   "metadata": {},
   "source": [
    "<h4>Importation de la base de donnees et pre-traitement</h4>"
   ]
  },
  {
   "cell_type": "code",
   "execution_count": 2,
   "id": "a6487fe6",
   "metadata": {},
   "outputs": [],
   "source": [
    "def get_images():\n",
    "    data = []\n",
    "    for j in range(0,10):\n",
    "        for i in range(1, 61):\n",
    "            image = cv2.imread(\"./DB/\" + str(j) + \"/img (\" + str(i) + \").jpg\",0)\n",
    "            (thresh, im_bw) = cv2.threshold(image, 128, 1, cv2.THRESH_BINARY )\n",
    "            a = np.array(im_bw)\n",
    "            data.append(a.flatten())\n",
    "    return data"
   ]
  },
  {
   "cell_type": "code",
   "execution_count": 3,
   "id": "a8528006",
   "metadata": {},
   "outputs": [],
   "source": [
    "Vect = get_images()"
   ]
  },
  {
   "cell_type": "markdown",
   "id": "6aec1d13",
   "metadata": {},
   "source": [
    "<h4>Classifieurs et Apprentissage</h4>"
   ]
  },
  {
   "cell_type": "code",
   "execution_count": 4,
   "id": "144269d2",
   "metadata": {},
   "outputs": [],
   "source": [
    "DTC = tree.DecisionTreeClassifier()\n",
    "RFC = RandomForestClassifier()\n",
    "GBC = GradientBoostingClassifier()"
   ]
  },
  {
   "cell_type": "code",
   "execution_count": 5,
   "id": "834d8cd3",
   "metadata": {},
   "outputs": [
    {
     "data": {
      "text/plain": [
       "GradientBoostingClassifier()"
      ]
     },
     "execution_count": 5,
     "metadata": {},
     "output_type": "execute_result"
    }
   ],
   "source": [
    "v = [[j for i in range(1,61)] for j in range(0,10)] \n",
    "DTC.fit(Vect, np.ravel(v))\n",
    "RFC.fit(Vect, np.ravel(v))\n",
    "GBC.fit(Vect, np.ravel(v))"
   ]
  },
  {
   "cell_type": "markdown",
   "id": "9d2f64e2",
   "metadata": {},
   "source": [
    "<h4>Taux d'apprentissage</h4>"
   ]
  },
  {
   "cell_type": "code",
   "execution_count": 6,
   "id": "b9a42501",
   "metadata": {},
   "outputs": [
    {
     "name": "stdout",
     "output_type": "stream",
     "text": [
      "Le taux d'apprentissage de l'Arbre de Decision : 100.0%\n",
      "Le taux d'apprentissage de Random Forest : 100.0%\n",
      "Le taux d'apprentissage de Gradient Boosting : 100.0%\n"
     ]
    }
   ],
   "source": [
    "print(\"Le taux d'apprentissage de l'Arbre de Decision : \"+str(DTC.score( Vect,np.ravel(v))*100)+\"%\")\n",
    "print(\"Le taux d'apprentissage de Random Forest : \"+str(RFC.score( Vect,np.ravel(v))*100)+\"%\")\n",
    "print(\"Le taux d'apprentissage de Gradient Boosting : \"+str(GBC.score( Vect,np.ravel(v))*100)+\"%\")"
   ]
  },
  {
   "cell_type": "markdown",
   "id": "9fb4bc99",
   "metadata": {},
   "source": [
    "<h4>Taux de reussite</h4>"
   ]
  },
  {
   "cell_type": "code",
   "execution_count": 7,
   "id": "e73e7b53",
   "metadata": {},
   "outputs": [],
   "source": [
    "import glob   \n",
    "X=[]\n",
    "Y=[]\n",
    "for imagePath in glob.glob(\"./DB/testSample\"+\"/*.jpg\"):\n",
    "    image = cv2.imread(imagePath,0)\n",
    "    (thresh, im_bw) = cv2.threshold(image, 128, 1, cv2.THRESH_BINARY)\n",
    "    a = np.array(im_bw)\n",
    "    X.append(a.flatten())\n",
    "    Y.append(int(imagePath[20:21]))"
   ]
  },
  {
   "cell_type": "code",
   "execution_count": 8,
   "id": "9df9e03d",
   "metadata": {},
   "outputs": [
    {
     "name": "stdout",
     "output_type": "stream",
     "text": [
      "Le taux de reussite pour DecisionTreeClassifier est egal a : 63.66666666666667%\n",
      "Le taux de reussite pour RandomForestClassifier est egal a : 85.66666666666667%\n",
      "Le taux de reussite pour GradientBoostingClassifier est egal a : 81.0%\n"
     ]
    }
   ],
   "source": [
    "print(\"Le taux de reussite pour DecisionTreeClassifier est egal a : \"+str(DTC.score(X, Y)*100)+\"%\")\n",
    "print(\"Le taux de reussite pour RandomForestClassifier est egal a : \" + str(RFC.score(X, Y )*100)+\"%\")\n",
    "print(\"Le taux de reussite pour GradientBoostingClassifier est egal a : \"+str(GBC.score(X, Y)*100)+\"%\")"
   ]
  },
  {
   "cell_type": "markdown",
   "id": "21e65e85",
   "metadata": {},
   "source": [
    "<h4>Prediction</h4>"
   ]
  },
  {
   "cell_type": "code",
   "execution_count": 9,
   "id": "2d286271",
   "metadata": {},
   "outputs": [
    {
     "data": {
      "image/png": "[encoded data removed]",
      "text/plain": [
       "<Figure size 432x288 with 1 Axes>"
      ]
     },
     "metadata": {
      "needs_background": "light"
     },
     "output_type": "display_data"
    }
   ],
   "source": [
    "image = cv2.imread(\"./DB/testSample/F_t_6 (8).jpg\",0)\n",
    "plt.imshow(image)\n",
    "plt.show()\n",
    "(thresh, im_bw) = cv2.threshold(image, 128, 1, cv2.THRESH_BINARY )\n",
    "im = np.array(im_bw) #image to predict"
   ]
  },
  {
   "cell_type": "code",
   "execution_count": 10,
   "id": "333c9523",
   "metadata": {},
   "outputs": [],
   "source": [
    "predictionDT = DTC.predict([im.flatten()])\n",
    "predictionRF = RFC.predict([im.flatten()])\n",
    "predictionGB = GBC.predict([im.flatten()])"
   ]
  },
  {
   "cell_type": "code",
   "execution_count": 11,
   "id": "3b350916",
   "metadata": {},
   "outputs": [
    {
     "name": "stdout",
     "output_type": "stream",
     "text": [
      "Prediction avec DecisionTreeClassifier : [6]\n",
      "Prediction avec RandomForestClassifier : [6]\n",
      "Prediction avec GradientBoostingClassifier : [6]\n"
     ]
    }
   ],
   "source": [
    "print(\"Prediction avec DecisionTreeClassifier : \"+str(predictionDT))\n",
    "print(\"Prediction avec RandomForestClassifier : \"+str(predictionRF))\n",
    "print(\"Prediction avec GradientBoostingClassifier : \"+str(predictionGB))"
   ]
  }
 ],
 "metadata": {
  "kernelspec": {
   "display_name": "Python 3",
   "language": "python",
   "name": "python3"
  },
  "language_info": {
   "codemirror_mode": {
    "name": "ipython",
    "version": 3
   },
   "file_extension": ".py",
   "mimetype": "text/x-python",
   "name": "python",
   "nbconvert_exporter": "python",
   "pygments_lexer": "ipython3",
   "version": "3.9.1"
  }
 },
 "nbformat": 4,
 "nbformat_minor": 5
}
